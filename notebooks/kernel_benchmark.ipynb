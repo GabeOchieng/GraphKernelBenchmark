{
 "cells": [
  {
   "cell_type": "code",
   "execution_count": 4,
   "metadata": {},
   "outputs": [],
   "source": [
    "import sys\n",
    "sys.path.insert(0, '..')\n",
    "from evaluate import run_benchmark"
   ]
  },
  {
   "cell_type": "code",
   "execution_count": 5,
   "metadata": {},
   "outputs": [
    {
     "data": {
      "text/plain": [
       "[('WL3L',\n",
       "  [(1.0, 0.001),\n",
       "   (1.0, 0.01),\n",
       "   (1.0, 0.1),\n",
       "   (1.0, 1),\n",
       "   (1.0, 10),\n",
       "   (1.0, 100),\n",
       "   (1.0, 1000)]),\n",
       " ('EdgeHistogram',\n",
       "  [(0.8, 0.001),\n",
       "   (0.8800000000000001, 0.01),\n",
       "   (0.8200000000000001, 0.1),\n",
       "   (0.76, 1),\n",
       "   (0.8600000000000001, 10),\n",
       "   (0.78, 100),\n",
       "   (0.8400000000000001, 1000)])]"
      ]
     },
     "execution_count": 5,
     "metadata": {},
     "output_type": "execute_result"
    }
   ],
   "source": [
    "list(run_benchmark('TEST'))"
   ]
  }
 ],
 "metadata": {
  "kernelspec": {
   "display_name": "Python 3",
   "language": "python",
   "name": "python3"
  },
  "language_info": {
   "codemirror_mode": {
    "name": "ipython",
    "version": 3
   },
   "file_extension": ".py",
   "mimetype": "text/x-python",
   "name": "python",
   "nbconvert_exporter": "python",
   "pygments_lexer": "ipython3",
   "version": "3.6.2"
  }
 },
 "nbformat": 4,
 "nbformat_minor": 2
}
