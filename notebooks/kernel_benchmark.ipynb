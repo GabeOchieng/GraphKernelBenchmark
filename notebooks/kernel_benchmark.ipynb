{
 "cells": [
  {
   "cell_type": "code",
   "execution_count": 1,
   "metadata": {},
   "outputs": [],
   "source": [
    "import sys\n",
    "sys.path.insert(0, '..')\n",
    "from evaluate import run_benchmark"
   ]
  },
  {
   "cell_type": "code",
   "execution_count": 2,
   "metadata": {},
   "outputs": [
    {
     "name": "stdout",
     "output_type": "stream",
     "text": [
      "Tested datasets:  ['MUTAG', 'TEST']\n"
     ]
    },
    {
     "data": {
      "text/plain": [
       "defaultdict(list,\n",
       "            {'MUTAG': [('WL3L',\n",
       "               [(0.8587301587301587, 0.001),\n",
       "                (0.8666666666666666, 0.01),\n",
       "                (0.8380952380952381, 0.1),\n",
       "                (0.8301587301587301, 1),\n",
       "                (0.8444444444444444, 10),\n",
       "                (0.8365079365079364, 100),\n",
       "                (0.8222222222222222, 1000)])],\n",
       "             'TEST': [('WL3L',\n",
       "               [(0.9400000000000001, 0.001),\n",
       "                (0.9400000000000001, 0.01),\n",
       "                (1.0, 0.1),\n",
       "                (1.0, 1),\n",
       "                (1.0, 10),\n",
       "                (1.0, 100),\n",
       "                (1.0, 1000)])]})"
      ]
     },
     "execution_count": 2,
     "metadata": {},
     "output_type": "execute_result"
    }
   ],
   "source": [
    "run_benchmark(['MUTAG', 'TEST'])"
   ]
  },
  {
   "cell_type": "code",
   "execution_count": null,
   "metadata": {},
   "outputs": [],
   "source": []
  }
 ],
 "metadata": {
  "kernelspec": {
   "display_name": "Python 3",
   "language": "python",
   "name": "python3"
  },
  "language_info": {
   "codemirror_mode": {
    "name": "ipython",
    "version": 3
   },
   "file_extension": ".py",
   "mimetype": "text/x-python",
   "name": "python",
   "nbconvert_exporter": "python",
   "pygments_lexer": "ipython3",
   "version": "3.6.2"
  }
 },
 "nbformat": 4,
 "nbformat_minor": 2
}
