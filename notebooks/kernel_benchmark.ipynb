{
 "cells": [
  {
   "cell_type": "code",
   "execution_count": 6,
   "metadata": {},
   "outputs": [],
   "source": [
    "import sys\n",
    "sys.path.insert(0, '..')\n",
    "from evaluate import run_benchmark"
   ]
  },
  {
   "cell_type": "code",
   "execution_count": null,
   "metadata": {},
   "outputs": [
    {
     "name": "stdout",
     "output_type": "stream",
     "text": [
      "Tested datasets:  ['SETUP_2']\n",
      "Running:  MLG\n",
      "Running:  WL3L\n",
      "Running:  WL3L\n",
      "Running:  WL3G\n",
      "Running:  WL2G\n",
      "Running:  ColorRefinement\n",
      "Running:  Graphlet\n",
      "Running:  Propagation\n",
      "Running:  VertexHistogram\n",
      "Running:  PyramidMatch\n",
      "Running:  WeisfeilerLehman\n",
      "Running:  ShortestPath\n",
      "Running:  LovaszTheta\n"
     ]
    }
   ],
   "source": [
    "dataset = 'SETUP_2'\n",
    "result = run_benchmark([dataset])\n",
    "result"
   ]
  },
  {
   "cell_type": "code",
   "execution_count": null,
   "metadata": {},
   "outputs": [],
   "source": [
    "import json\n",
    "with open('/Users/Fabian/Documents/HPI/Master/18SS/smart_representations/results/' + dataset, 'w') as f:\n",
    "    f.write(json.dumps(result))"
   ]
  },
  {
   "cell_type": "code",
   "execution_count": null,
   "metadata": {},
   "outputs": [],
   "source": []
  }
 ],
 "metadata": {
  "kernelspec": {
   "display_name": "Python 3",
   "language": "python",
   "name": "python3"
  },
  "language_info": {
   "codemirror_mode": {
    "name": "ipython",
    "version": 3
   },
   "file_extension": ".py",
   "mimetype": "text/x-python",
   "name": "python",
   "nbconvert_exporter": "python",
   "pygments_lexer": "ipython3",
   "version": "3.5.5"
  }
 },
 "nbformat": 4,
 "nbformat_minor": 2
}
