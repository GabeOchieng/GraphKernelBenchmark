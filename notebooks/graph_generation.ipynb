{
 "cells": [
  {
   "cell_type": "code",
   "execution_count": 14,
   "metadata": {},
   "outputs": [],
   "source": [
    "from graph_tool.generation import random_graph\n",
    "import numpy as np"
   ]
  },
  {
   "cell_type": "code",
   "execution_count": 9,
   "metadata": {},
   "outputs": [],
   "source": [
    "deg_sampler = lambda: 3\n",
    "graph = random_graph(1000, deg_sampler, directed=False)"
   ]
  },
  {
   "cell_type": "code",
   "execution_count": 23,
   "metadata": {},
   "outputs": [
    {
     "data": {
      "text/plain": [
       "array([[  0, 896],\n",
       "       [  0, 283],\n",
       "       [  0, 101],\n",
       "       ...,\n",
       "       [997, 315],\n",
       "       [998, 970],\n",
       "       [998, 659]], dtype=uint64)"
      ]
     },
     "execution_count": 23,
     "metadata": {},
     "output_type": "execute_result"
    }
   ],
   "source": [
    "edges = graph.get_edges()[:, :-1]\n",
    "edges"
   ]
  },
  {
   "cell_type": "code",
   "execution_count": 87,
   "metadata": {},
   "outputs": [],
   "source": [
    "def write_to_file(file_path):\n",
    "    np.savetxt(file_path, edges, delimiter=',', fmt='%d')"
   ]
  },
  {
   "cell_type": "code",
   "execution_count": 102,
   "metadata": {},
   "outputs": [],
   "source": [
    "def reindex_edges(edges, start):\n",
    "    return np.vectorize(lambda x: x + start)(edges)"
   ]
  },
  {
   "cell_type": "code",
   "execution_count": 107,
   "metadata": {},
   "outputs": [],
   "source": [
    "def generate_graphs(generator, count):\n",
    "    start_index = 0\n",
    "    for i in range(count):\n",
    "        graph, label = generator()\n",
    "        edges = graph.get_edges()[:, :-1]\n",
    "        e_count = edges.shape[0]\n",
    "        graph_indicators = np.full(e_count, i).reshape(-1, 1)\n",
    "        labeled_matrix = np.concatenate((reindex_edges(edges, start_index),\n",
    "                                         graph_indicators), axis=1)\n",
    "        start_index += e_count\n",
    "        yield labeled_matrix, label"
   ]
  },
  {
   "cell_type": "code",
   "execution_count": 108,
   "metadata": {},
   "outputs": [],
   "source": [
    "def test_generator():\n",
    "    # function to show generator interface\n",
    "    deg_sampler = lambda: 3\n",
    "    return random_graph(1000, deg_sampler, directed=False), 1"
   ]
  },
  {
   "cell_type": "code",
   "execution_count": 109,
   "metadata": {},
   "outputs": [],
   "source": [
    "graphs = []\n",
    "labels = []\n",
    "for graph, label in generate_graphs(test_generator, 5):\n",
    "    graphs.append(graph)\n",
    "    labels.append(label)"
   ]
  },
  {
   "cell_type": "code",
   "execution_count": 110,
   "metadata": {},
   "outputs": [
    {
     "data": {
      "text/plain": [
       "array([[   0.,  421.],\n",
       "       [   0.,   63.],\n",
       "       [   0.,  273.],\n",
       "       ...,\n",
       "       [6996., 6573.],\n",
       "       [6997., 6279.],\n",
       "       [6998., 6859.]])"
      ]
     },
     "execution_count": 110,
     "metadata": {},
     "output_type": "execute_result"
    }
   ],
   "source": [
    "# check whether duplicated label indices are relevant even if contained in other graph\n",
    "output = np.concatenate(graphs)\n",
    "generated_A = output[:, :-1]\n",
    "generated_A"
   ]
  },
  {
   "cell_type": "code",
   "execution_count": 111,
   "metadata": {},
   "outputs": [
    {
     "data": {
      "text/plain": [
       "array([[0.],\n",
       "       [0.],\n",
       "       [0.],\n",
       "       ...,\n",
       "       [4.],\n",
       "       [4.],\n",
       "       [4.]])"
      ]
     },
     "execution_count": 111,
     "metadata": {},
     "output_type": "execute_result"
    }
   ],
   "source": [
    "generated_graph_labels = output[:, -1].reshape(-1, 1)\n",
    "generated_graph_labels"
   ]
  },
  {
   "cell_type": "code",
   "execution_count": 112,
   "metadata": {},
   "outputs": [
    {
     "data": {
      "text/plain": [
       "array([[1],\n",
       "       [1],\n",
       "       [1],\n",
       "       [1],\n",
       "       [1]])"
      ]
     },
     "execution_count": 112,
     "metadata": {},
     "output_type": "execute_result"
    }
   ],
   "source": [
    "graph_labels = np.array(labels).reshape(-1, 1)\n",
    "graph_labels"
   ]
  },
  {
   "cell_type": "code",
   "execution_count": null,
   "metadata": {},
   "outputs": [],
   "source": []
  }
 ],
 "metadata": {
  "kernelspec": {
   "display_name": "Python 3",
   "language": "python",
   "name": "python3"
  },
  "language_info": {
   "codemirror_mode": {
    "name": "ipython",
    "version": 3
   },
   "file_extension": ".py",
   "mimetype": "text/x-python",
   "name": "python",
   "nbconvert_exporter": "python",
   "pygments_lexer": "ipython3",
   "version": "3.6.2"
  }
 },
 "nbformat": 4,
 "nbformat_minor": 2
}
