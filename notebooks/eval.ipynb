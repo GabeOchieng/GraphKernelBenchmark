{
 "cells": [
  {
   "cell_type": "code",
   "execution_count": 113,
   "metadata": {},
   "outputs": [],
   "source": [
    "import numpy as np\n",
    "import math\n",
    "from sklearn import svm\n",
    "from sklearn.metrics import accuracy_score\n",
    "from sklearn.model_selection import ShuffleSplit, cross_val_score"
   ]
  },
  {
   "cell_type": "code",
   "execution_count": 24,
   "metadata": {},
   "outputs": [],
   "source": [
    "def read_label_matrix(file_path):\n",
    "    def read():\n",
    "        with open(file_path, \"r\") as f:\n",
    "            for line in f:\n",
    "                yield int(line.strip())\n",
    "    return np.array(list(read()))"
   ]
  },
  {
   "cell_type": "code",
   "execution_count": 25,
   "metadata": {},
   "outputs": [],
   "source": [
    "def read_kernel_matrix(file_path):\n",
    "    def read():\n",
    "        with open(file_path, 'r') as f:\n",
    "            for line in f:\n",
    "                yield line.strip().split(' ')\n",
    "    return np.array(list(read()))"
   ]
  },
  {
   "cell_type": "code",
   "execution_count": null,
   "metadata": {},
   "outputs": [],
   "source": [
    "# Finished: MUTAG, PROTEINS, NCI1"
   ]
  },
  {
   "cell_type": "code",
   "execution_count": 155,
   "metadata": {},
   "outputs": [],
   "source": [
    "DATASET = 'MUTAG'\n",
    "LABEL_PATH = '/Users/Fabian/Documents/HPI/Master/18SS/smart_representations/datasets/{}/{}_graph_labels.txt'.format(DATASET, DATASET)\n",
    "KERNEL_PATH = '/Users/Fabian/Documents/HPI/Master/18SS/smart_representations/algorithms/MLGkernel/data/results/output_{}.txt'.format(DATASET)"
   ]
  },
  {
   "cell_type": "code",
   "execution_count": 156,
   "metadata": {},
   "outputs": [],
   "source": [
    "label_matrix = read_label_matrix(LABEL_PATH)\n",
    "kernel_matrix = read_kernel_matrix(KERNEL_PATH)"
   ]
  },
  {
   "cell_type": "code",
   "execution_count": 157,
   "metadata": {},
   "outputs": [],
   "source": [
    "def score_n_fold(train, test, n, c):\n",
    "    cv = ShuffleSplit(n_splits=n, test_size=0.33)\n",
    "    clf = svm.SVC(kernel='precomputed', C=c, class_weight='balanced')\n",
    "    return cross_val_score(clf, kernel_matrix, label_matrix, cv=cv).mean(), c"
   ]
  },
  {
   "cell_type": "code",
   "execution_count": 158,
   "metadata": {},
   "outputs": [
    {
     "data": {
      "text/plain": [
       "(0.6079365079365079, 1000)"
      ]
     },
     "execution_count": 158,
     "metadata": {},
     "output_type": "execute_result"
    }
   ],
   "source": [
    "score_n_fold(kernel_matrix, label_matrix, 10, 1000)"
   ]
  },
  {
   "cell_type": "code",
   "execution_count": 159,
   "metadata": {},
   "outputs": [
    {
     "data": {
      "text/plain": [
       "[(0.4841269841269841, 0.001),\n",
       " (0.43650793650793646, 0.01),\n",
       " (0.4746031746031747, 0.1),\n",
       " (0.5936507936507937, 1),\n",
       " (0.619047619047619, 10),\n",
       " (0.6238095238095238, 100),\n",
       " (0.6174603174603175, 1000)]"
      ]
     },
     "execution_count": 159,
     "metadata": {},
     "output_type": "execute_result"
    }
   ],
   "source": [
    "penalties = [0.001, 0.01, 0.1, 1, 10, 100, 1000]\n",
    "scores = [score_n_fold(kernel_matrix, label_matrix, 10, c) for c in penalties]\n",
    "scores"
   ]
  }
 ],
 "metadata": {
  "kernelspec": {
   "display_name": "Python 3",
   "language": "python",
   "name": "python3"
  },
  "language_info": {
   "codemirror_mode": {
    "name": "ipython",
    "version": 3
   },
   "file_extension": ".py",
   "mimetype": "text/x-python",
   "name": "python",
   "nbconvert_exporter": "python",
   "pygments_lexer": "ipython3",
   "version": "3.6.2"
  }
 },
 "nbformat": 4,
 "nbformat_minor": 2
}
